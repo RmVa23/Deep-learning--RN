{
    "cells": [
        {
            "cell_type": "markdown",
            "metadata": {},
            "source": [
                "# Explore here"
            ]
        },
        {
            "cell_type": "code",
            "execution_count": 7,
            "metadata": {},
            "outputs": [],
            "source": [
                "import os\n",
                "import numpy as np\n",
                "import matplotlib.pyplot as plt\n",
                "from tensorflow import keras\n",
                "from keras.preprocessing import image"
            ]
        },
        {
            "cell_type": "code",
            "execution_count": 8,
            "metadata": {},
            "outputs": [],
            "source": [
                "# Cargar el conjunto de datos CSV que contiene la información de las imágenes\n",
                "data = '/data/raw/sampleSubmission.csv'"
            ]
        },
        {
            "cell_type": "code",
            "execution_count": 9,
            "metadata": {},
            "outputs": [
                {
                    "ename": "FileNotFoundError",
                    "evalue": "[Errno 2] No such file or directory: '/data/raw/sampleSubmission.csv/dog'",
                    "output_type": "error",
                    "traceback": [
                        "\u001b[0;31m---------------------------------------------------------------------------\u001b[0m",
                        "\u001b[0;31mFileNotFoundError\u001b[0m                         Traceback (most recent call last)",
                        "Cell \u001b[0;32mIn[9], line 3\u001b[0m\n\u001b[1;32m      1\u001b[0m carpeta_dog \u001b[38;5;241m=\u001b[39m os\u001b[38;5;241m.\u001b[39mpath\u001b[38;5;241m.\u001b[39mjoin(data, \u001b[38;5;124m\"\u001b[39m\u001b[38;5;124mdog\u001b[39m\u001b[38;5;124m\"\u001b[39m)  \u001b[38;5;66;03m# Define la ruta de la carpeta que contiene las imágenes de perros\u001b[39;00m\n\u001b[0;32m----> 3\u001b[0m archivos_imagen_dog \u001b[38;5;241m=\u001b[39m \u001b[43mos\u001b[49m\u001b[38;5;241;43m.\u001b[39;49m\u001b[43mlistdir\u001b[49m\u001b[43m(\u001b[49m\u001b[43mcarpeta_dog\u001b[49m\u001b[43m)\u001b[49m  \u001b[38;5;66;03m# lista de todos los nombres de archivos de imagen de perro en la carpeta especificada\u001b[39;00m\n\u001b[1;32m      5\u001b[0m dog_images \u001b[38;5;241m=\u001b[39m []   \u001b[38;5;66;03m# lista vacía llamada dog_images para almacenar las imágenes de perro \u001b[39;00m\n\u001b[1;32m      6\u001b[0m \u001b[38;5;28;01mfor\u001b[39;00m i \u001b[38;5;129;01min\u001b[39;00m \u001b[38;5;28mrange\u001b[39m(\u001b[38;5;241m9\u001b[39m):\n\u001b[1;32m      7\u001b[0m     \u001b[38;5;66;03m# ruta completa del archivo de imagen:\u001b[39;00m\n",
                        "\u001b[0;31mFileNotFoundError\u001b[0m: [Errno 2] No such file or directory: '/data/raw/sampleSubmission.csv/dog'"
                    ]
                }
            ],
            "source": [
                "carpeta_dog = os.path.join(data, \"dog\")  # Define la ruta de la carpeta que contiene las imágenes de perros\n",
                "\n",
                "archivos_imagen_dog = os.listdir(carpeta_dog)  # lista de todos los nombres de archivos de imagen de perro en la carpeta especificada\n",
                "\n",
                "dog_images = []   # lista vacía llamada dog_images para almacenar las imágenes de perro \n",
                "for i in range(9):\n",
                "    # ruta completa del archivo de imagen:\n",
                "    img_path = os.path.join(carpeta_dog, archivos_imagen_dog[i])  # os.path.join() une la ruta de la carpeta de perros con el nombre de archivo de imagen\n",
                "    img = image.load_img(img_path)  # mage.load_img() carga la imagen como un objeto PIL.Image.\n",
                "    img_array = image.img_to_array(img)  # La imagen se convierte en un array NumPy, lo que permite su manipulación y procesamiento posterior\n",
                "    img_array /= 255.0  # Se normalizan los valores de píxeles de la imagen dividiendo cada valor de píxel por 255.0 para ajustarlos al rango [0, 1].\n",
                "    dog_images.append(img_array)\n",
                "\n",
                "\n",
                "plt.figure(figsize=(12, 8))\n",
                "\n",
                "# itera sobre las nueve imágenes en la lista dog_images en un bucle for:\n",
                "for i in range(9):\n",
                "    plt.subplot(3, 3, i + 1)  # plt.subplot() para definir la posición de la subtrama dentro de la figura general. En este caso, se utiliza una cuadrícula de 3x3, por lo que hay nueve subtramas en total.\n",
                "    plt.imshow(dog_images[i])\n",
                "    plt.title('Dog Image')\n",
                "    plt.axis('off')  # Se desactivan los ejes utilizando plt.axis('off') para eliminar los números de los ejes x e y.\n",
                "\n",
                "# Adjust Layout\n",
                "plt.tight_layout()\n",
                "\n",
                "# Show the pictures\n",
                "plt.show()"
            ]
        }
    ],
    "metadata": {
        "kernelspec": {
            "display_name": "Python 3.8.13 64-bit ('3.8.13')",
            "language": "python",
            "name": "python3"
        },
        "language_info": {
            "codemirror_mode": {
                "name": "ipython",
                "version": 3
            },
            "file_extension": ".py",
            "mimetype": "text/x-python",
            "name": "python",
            "nbconvert_exporter": "python",
            "pygments_lexer": "ipython3",
            "version": "3.10.12"
        },
        "orig_nbformat": 4,
        "vscode": {
            "interpreter": {
                "hash": "110cc1dee26208153f2972f08a2ad52b6a56238dc66d48e87fb757ef2996db56"
            }
        }
    },
    "nbformat": 4,
    "nbformat_minor": 2
}
